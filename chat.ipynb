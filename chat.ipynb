{
  "nbformat": 4,
  "nbformat_minor": 0,
  "metadata": {
    "colab": {
      "provenance": []
    },
    "kernelspec": {
      "name": "python3",
      "display_name": "Python 3"
    },
    "language_info": {
      "name": "python"
    }
  },
  "cells": [
    {
      "cell_type": "code",
      "execution_count": null,
      "metadata": {
        "id": "ry5Gaa3T3VjF"
      },
      "outputs": [],
      "source": [
        "import random\n",
        "\n",
        "# Dicionário de respostas do chatbot\n",
        "respostas = {\n",
        "    \"olá\": \"Olá! Como posso ajudar?\",\n",
        "    \"como você está?\": \"Eu sou apenas um programa de computador, então não tenho sentimentos, mas estou aqui para ajudar!\",\n",
        "    \"adeus\": \"Até mais! Se precisar de alguma coisa, é só perguntar.\",\n",
        "    \"o que é o curso de sistemas de informação?\": \"O curso de Sistemas de Informação é uma área que combina tecnologia da informação e negócios para resolver problemas usando sistemas de software. É uma área muito interessante!\"\n",
        "}\n",
        "\n",
        "\n",
        "def responder(mensagem):\n",
        "    mensagem = mensagem.lower()\n",
        "    resposta = respostas.get(mensagem, \"Desculpe, não entendi. Pode reformular a pergunta?\")\n",
        "    return resposta\n",
        "\n",
        "\n",
        "# Função principal do chatbot\n",
        "def chatbot():\n",
        "    print(\"Olá! Eu sou um chatbot. Você pode me fazer perguntas ou dizer olá.\")\n",
        "\n",
        "    while True:\n",
        "        mensagem = input(\"Você: \")\n",
        "        if mensagem.lower() == \"sair\":\n",
        "            print(\"Chat encerrado.\")\n",
        "            break\n",
        "        else:\n",
        "            resposta = responder(mensagem)\n",
        "            print(\"Chatbot: \" + resposta)\n",
        "\n",
        "\n",
        "if __name__ == \"__main__\":\n",
        "    chatbot()"
      ]
    }
  ]
}